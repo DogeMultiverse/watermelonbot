{
 "cells": [
  {
   "cell_type": "code",
   "execution_count": 1,
   "id": "9c599d5c-925e-40e1-aac8-ec59048106b2",
   "metadata": {},
   "outputs": [],
   "source": [
    "import json\n",
    "import pymongo\n",
    "from pymongo.database import Database\n",
    "from pymongo.collection import Collection\n",
    "from time import time\n",
    "import datetime\n",
    "with open(\"watermelon.config\", \"rb\") as f:\n",
    "    js = json.load(f)\n",
    "    mongo_key: str = js[\"mongo_key\"]\n",
    "    prefix: str = js[\"prefix\"]\n",
    "\n",
    "if prefix in [\"w?\", \"t?\"]:  # only access mongodb for w? and t?\n",
    "    client = pymongo.MongoClient(mongo_key)\n",
    "    db: Database = client.get_database(\"AlexMindustry\")\n",
    "    expgains: Collection = db[\"expgains\"]\n",
    "    convertedexp: Collection = db[\"convertedexp\"]\n",
    "    muuid: Collection = db[\"muuid\"]\n",
    "    # V7 stuff\n",
    "    expv7: Collection = db[\"expv7\"]\n",
    "    convertedexpv7: Collection = db[\"convertedexpv7\"]\n",
    "    ingamecosmeticsv7: Collection = db[\"ingamecosmeticsv7\"]\n",
    "    serverplayerupdates1: Collection = db[\"serverplayerupdates1\"]\n",
    "    hexv7: Collection = db[\"hexdataV7\"]"
   ]
  },
  {
   "cell_type": "markdown",
   "id": "0da886ab-b354-4896-bd41-61675aa7d0fb",
   "metadata": {},
   "source": [
    "## this notebook filters documents with duplicated muuid,usid,ip. and keeps the unique one with the latest date.\n",
    "\n",
    "## to clean up, run the first 3 cells"
   ]
  },
  {
   "cell_type": "code",
   "execution_count": 2,
   "id": "546514f7-7566-441b-baeb-9dbab3b7d425",
   "metadata": {},
   "outputs": [],
   "source": [
    "def clean_up_duplicate_muuid(timedeltadays=3,num_of_days_in_the_past=100):\n",
    "    for i in range(0,num_of_days_in_the_past//timedeltadays):\n",
    "        start_date = datetime.datetime.now() - datetime.timedelta(days=(i+1)*timedeltadays)\n",
    "        end_date = datetime.datetime.now() - datetime.timedelta(days=i*timedeltadays)\n",
    "        current_date = start_date\n",
    "        would_delete = []\n",
    "        while current_date < end_date:\n",
    "            next_date = current_date + datetime.timedelta(days=timedeltadays)\n",
    "            # Group documents by unique fields excluding _id and date\n",
    "            pipeline = [\n",
    "                {\n",
    "                    '$match': {\n",
    "                        'date': {'$gte': current_date, '$lt': next_date}\n",
    "                    }\n",
    "                },\n",
    "                {\n",
    "                    '$group': {\n",
    "                        '_id': {\n",
    "                            'musername': '$musername',\n",
    "                            'muuid': '$muuid',\n",
    "                            'musid': '$musid',\n",
    "                            'con_address': '$con_address',\n",
    "                            'color': '$color',\n",
    "                            'servername': '$servername'\n",
    "                        },\n",
    "                        'latest': {'$max': '$date'},\n",
    "                        'docs': {'$push': {'_id': '$_id', 'date': '$date'}}\n",
    "                    }\n",
    "                }\n",
    "            ]\n",
    "            # Execute the aggregation pipeline\n",
    "            result = muuid.aggregate(pipeline)\n",
    "            # Loop through the aggregation result\n",
    "            keep=0\n",
    "            for doc in result:\n",
    "                latest_date = doc['latest']\n",
    "                docs = doc['docs']\n",
    "                latest_id = None\n",
    "                # Find the document with the latest date\n",
    "                for d in docs:\n",
    "                    if d['date'] == latest_date:\n",
    "                        latest_id = d['_id']\n",
    "        \n",
    "                # Print all other documents except the latest one\n",
    "                if latest_id:\n",
    "                    keep+=1\n",
    "                    for d in docs:\n",
    "                        if d['_id'] != latest_id:\n",
    "                            #print(f\"Would delete document: {d['_id']}\")\n",
    "                            would_delete.append(d['_id'])\n",
    "            print(\"docs\",len(would_delete),\"keep\",keep,next_date)\n",
    "            current_date = next_date\n",
    "        res = muuid.delete_many({'_id': {'$in': would_delete}})\n",
    "        print(\"deleted\",res.deleted_count)\n",
    "    print(\"Run complete!\")"
   ]
  },
  {
   "cell_type": "code",
   "execution_count": 3,
   "id": "f7a20c83-19e9-4add-abdf-c6eb8f8e23df",
   "metadata": {},
   "outputs": [
    {
     "name": "stdout",
     "output_type": "stream",
     "text": [
      "docs 4809 keep 8263 2024-10-25 22:53:41.055078\n",
      "deleted 4809\n",
      "docs 5202 keep 9251 2024-10-22 22:53:49.704345\n",
      "deleted 5202\n",
      "docs 6394 keep 10236 2024-10-19 22:53:59.064843\n",
      "deleted 6394\n",
      "docs 5596 keep 8955 2024-10-16 22:54:10.537684\n",
      "deleted 5596\n",
      "docs 7687 keep 16842 2024-10-13 22:54:18.863983\n",
      "deleted 7687\n",
      "docs 5095 keep 11457 2024-10-10 22:54:31.001212\n",
      "deleted 5095\n",
      "docs 7062 keep 12480 2024-10-07 22:54:39.862712\n",
      "deleted 7062\n",
      "docs 5391 keep 9881 2024-10-04 22:54:49.507628\n",
      "deleted 5391\n",
      "docs 5681 keep 9687 2024-10-01 22:54:59.980359\n",
      "deleted 5681\n",
      "docs 5990 keep 10201 2024-09-28 22:55:10.009160\n",
      "deleted 5990\n",
      "docs 4895 keep 7525 2024-09-25 22:55:19.284274\n",
      "deleted 4895\n",
      "docs 6702 keep 10153 2024-09-22 22:55:27.048955\n",
      "deleted 6702\n",
      "docs 5954 keep 9607 2024-09-19 22:55:37.265990\n",
      "deleted 5954\n",
      "docs 7056 keep 11205 2024-09-16 22:55:47.847675\n",
      "deleted 7056\n",
      "docs 5442 keep 8972 2024-09-13 22:55:57.566336\n",
      "deleted 5442\n",
      "docs 5719 keep 9664 2024-09-10 22:56:08.222235\n",
      "deleted 5719\n",
      "docs 6330 keep 11182 2024-09-07 22:56:19.691088\n",
      "deleted 6330\n",
      "docs 5749 keep 9011 2024-09-04 22:56:29.597109\n",
      "deleted 5749\n",
      "docs 4539 keep 17305 2024-09-01 22:56:39.896055\n",
      "deleted 4539\n",
      "docs 0 keep 8459 2024-08-29 22:56:47.370896\n",
      "deleted 0\n",
      "docs 0 keep 9501 2024-08-26 22:56:53.881742\n",
      "deleted 0\n",
      "docs 0 keep 8938 2024-08-23 22:56:56.979955\n",
      "deleted 0\n",
      "docs 0 keep 9494 2024-08-20 22:57:00.050195\n",
      "deleted 0\n",
      "docs 0 keep 9751 2024-08-17 22:57:03.106542\n",
      "deleted 0\n",
      "docs 0 keep 8361 2024-08-14 22:57:05.995063\n",
      "deleted 0\n",
      "docs 0 keep 9869 2024-08-11 22:57:08.531542\n",
      "deleted 0\n",
      "docs 0 keep 11854 2024-08-08 22:57:11.194938\n",
      "deleted 0\n",
      "docs 0 keep 9960 2024-08-05 22:57:13.926141\n",
      "deleted 0\n",
      "docs 186 keep 7474 2024-08-02 22:57:16.782706\n",
      "deleted 186\n",
      "docs 0 keep 10631 2024-07-30 22:57:19.782496\n",
      "deleted 0\n",
      "docs 0 keep 10398 2024-07-27 22:57:22.834446\n",
      "deleted 0\n",
      "docs 0 keep 11864 2024-07-24 22:57:26.434423\n",
      "deleted 0\n",
      "docs 0 keep 15282 2024-07-21 22:57:29.925974\n",
      "deleted 0\n",
      "Run complete!\n",
      "docs 2720 keep 28259 2024-10-25 22:57:33.859147\n",
      "deleted 2720\n",
      "docs 2789 keep 39140 2024-10-15 22:57:41.617063\n",
      "deleted 2789\n",
      "docs 2578 keep 31777 2024-10-05 22:57:52.278779\n",
      "deleted 2578\n",
      "docs 2608 keep 28332 2024-09-25 22:58:00.310342\n",
      "deleted 2608\n",
      "docs 2837 keep 31592 2024-09-15 22:58:09.532103\n",
      "deleted 2837\n",
      "docs 1751 keep 35962 2024-09-05 22:58:18.074457\n",
      "deleted 1751\n",
      "docs 0 keep 31236 2024-08-26 22:58:27.413320\n",
      "deleted 0\n",
      "docs 0 keep 32668 2024-08-16 22:58:34.745503\n",
      "deleted 0\n",
      "docs 633 keep 31293 2024-08-06 22:58:40.527507\n",
      "deleted 633\n",
      "docs 0 keep 41446 2024-07-27 22:58:45.678787\n",
      "deleted 0\n",
      "Run complete!\n",
      "docs 3614 keep 95566 2024-10-25 22:58:52.564745\n",
      "deleted 3614\n",
      "docs 3420 keep 92467 2024-09-25 22:59:08.854192\n",
      "deleted 3420\n",
      "docs 720 keep 94476 2024-08-26 22:59:25.324321\n",
      "deleted 720\n",
      "Run complete!\n",
      "CPU times: total: 13.4 s\n",
      "Wall time: 5min 59s\n"
     ]
    }
   ],
   "source": [
    "%%time\n",
    "clean_up_duplicate_muuid(timedeltadays=3,num_of_days_in_the_past=100)\n",
    "clean_up_duplicate_muuid(timedeltadays=10,num_of_days_in_the_past=100)\n",
    "clean_up_duplicate_muuid(timedeltadays=30,num_of_days_in_the_past=100) # max is 50."
   ]
  },
  {
   "cell_type": "markdown",
   "id": "8835d649-8cbb-4882-b5a1-14ecaf9c6f7f",
   "metadata": {},
   "source": [
    "# delete old docs in playerserverupdates1\n",
    "\n",
    "# this will delete incrementally in batches of 10 days"
   ]
  },
  {
   "cell_type": "code",
   "execution_count": 4,
   "id": "88615c2d",
   "metadata": {},
   "outputs": [
    {
     "name": "stdout",
     "output_type": "stream",
     "text": [
      "DRY RUN\n",
      "Number of documents to be deleted: 0\n",
      "Number of documents to be deleted: 0\n",
      "Number of documents to be deleted: 0\n",
      "Number of documents to be deleted: 36916\n",
      "Number of documents to be deleted: 95756\n",
      "Number of documents to be deleted: 162676\n",
      "Number of documents to be deleted: 223773\n",
      "Number of documents to be deleted: 290041\n",
      "Number of documents to be deleted: 352808\n"
     ]
    }
   ],
   "source": [
    "print(\"DRY RUN\")\n",
    "num_days_ago = 30 # delete docs older than X days.\n",
    "for num_days_ago in list(range(90,5,-10)):\n",
    "    days_ago = datetime.datetime.now() - datetime.timedelta(days=num_days_ago)\n",
    "    filterr = {'date': {'$lt': days_ago}}\n",
    "    # Count the number of documents that would be deleted\n",
    "    count = serverplayerupdates1.count_documents(filterr)\n",
    "    print(f\"Number of documents to be deleted: {count}\")"
   ]
  },
  {
   "cell_type": "code",
   "execution_count": 5,
   "id": "2111829b",
   "metadata": {},
   "outputs": [
    {
     "name": "stdout",
     "output_type": "stream",
     "text": [
      "ACTUAL RUN\n",
      "Number of documents to be deleted: 0\n",
      "Deleted 0 documents.\n",
      "Number of documents to be deleted: 0\n",
      "Deleted 0 documents.\n",
      "Number of documents to be deleted: 0\n",
      "Deleted 0 documents.\n",
      "Number of documents to be deleted: 36916\n",
      "Deleted 36916 documents.\n",
      "Number of documents to be deleted: 58840\n",
      "Deleted 58840 documents.\n",
      "Number of documents to be deleted: 66920\n",
      "Deleted 66920 documents.\n",
      "Number of documents to be deleted: 61104\n",
      "Deleted 61104 documents.\n",
      "Number of documents to be deleted: 66267\n",
      "Deleted 66267 documents.\n",
      "Number of documents to be deleted: 62767\n",
      "Deleted 62767 documents.\n"
     ]
    }
   ],
   "source": [
    "print(\"ACTUAL RUN\")\n",
    "num_days_ago = 30 # delete docs older than X days.\n",
    "for num_days_ago in list(range(90,5,-10)):\n",
    "    days_ago = datetime.datetime.now() - datetime.timedelta(days=num_days_ago)\n",
    "    filterr = {'date': {'$lt': days_ago}}\n",
    "    # Count the number of documents that would be deleted\n",
    "    count = serverplayerupdates1.count_documents(filterr)\n",
    "    print(f\"Number of documents to be deleted: {count}\")\n",
    "    result = serverplayerupdates1.delete_many(filterr)\n",
    "    print(f\"Deleted {result.deleted_count} documents.\")"
   ]
  },
  {
   "cell_type": "markdown",
   "id": "491a6f11",
   "metadata": {},
   "source": [
    "# END OF FILE"
   ]
  },
  {
   "cell_type": "code",
   "execution_count": null,
   "id": "e7d2cd35",
   "metadata": {},
   "outputs": [],
   "source": []
  },
  {
   "cell_type": "code",
   "execution_count": null,
   "id": "edd1d2a7",
   "metadata": {},
   "outputs": [],
   "source": []
  },
  {
   "cell_type": "code",
   "execution_count": null,
   "id": "2affbe16",
   "metadata": {},
   "outputs": [],
   "source": []
  },
  {
   "cell_type": "code",
   "execution_count": null,
   "id": "a28ce9ea",
   "metadata": {},
   "outputs": [],
   "source": []
  },
  {
   "cell_type": "code",
   "execution_count": 15,
   "id": "ed0ace61-ff1b-43a6-b324-91412781bafd",
   "metadata": {},
   "outputs": [
    {
     "name": "stdout",
     "output_type": "stream",
     "text": [
      "Number of documents to be deleted: 80007\n",
      "CPU times: total: 15.6 ms\n",
      "Wall time: 411 ms\n"
     ]
    }
   ],
   "source": [
    "%%time\n",
    "num_days_ago = 30 # delete docs older than X days.\n",
    "days_ago = datetime.datetime.now() - datetime.timedelta(days=num_days_ago)\n",
    "filterr = {'date': {'$lt': days_ago}}\n",
    "# Count the number of documents that would be deleted\n",
    "count = serverplayerupdates1.count_documents(filterr)\n",
    "print(f\"Number of documents to be deleted: {count}\")"
   ]
  },
  {
   "cell_type": "code",
   "execution_count": 17,
   "id": "1c3bd09d",
   "metadata": {},
   "outputs": [
    {
     "data": {
      "text/plain": [
       "[90, 80, 70, 60, 50, 40, 30, 20, 10]"
      ]
     },
     "execution_count": 17,
     "metadata": {},
     "output_type": "execute_result"
    }
   ],
   "source": [
    "list(range(90,5,-10))"
   ]
  },
  {
   "cell_type": "code",
   "execution_count": null,
   "id": "7af4d684",
   "metadata": {},
   "outputs": [],
   "source": []
  },
  {
   "cell_type": "code",
   "execution_count": 16,
   "id": "e03461a1-2239-42f8-8006-e372ab4b63ac",
   "metadata": {},
   "outputs": [
    {
     "name": "stdout",
     "output_type": "stream",
     "text": [
      "Deleted 80007 documents.\n",
      "CPU times: total: 0 ns\n",
      "Wall time: 17.3 s\n"
     ]
    }
   ],
   "source": [
    "%%time\n",
    "result = serverplayerupdates1.delete_many(filterr)\n",
    "print(f\"Deleted {result.deleted_count} documents.\")"
   ]
  },
  {
   "cell_type": "code",
   "execution_count": null,
   "id": "e189e7b5-f4d4-410e-abf1-341312af25aa",
   "metadata": {},
   "outputs": [],
   "source": []
  },
  {
   "cell_type": "code",
   "execution_count": 2,
   "id": "482d3b50-3ffc-453a-8c45-99af16359f17",
   "metadata": {},
   "outputs": [],
   "source": [
    "t1=time()\n",
    "alexid=612861256189083669\n",
    "xxx1=315764312700485632 #cohl\n",
    "xxx2=1185756027929501718 #cen\n",
    "duuid=alexid\n",
    "t2=time()"
   ]
  },
  {
   "cell_type": "code",
   "execution_count": 38,
   "id": "6e233c34-4a8e-4dac-8a54-9e67f7b3f08e",
   "metadata": {},
   "outputs": [
    {
     "name": "stdout",
     "output_type": "stream",
     "text": [
      "docs 690 keep 188641 2024-06-22 17:17:44.687712\n",
      "Run complete!\n",
      "delted 690\n",
      "docs 3004 keep 157589 2024-05-13 17:20:24.273383\n",
      "Run complete!\n",
      "delted 3004\n",
      "docs 1008 keep 158618 2024-04-03 17:22:16.759669\n",
      "Run complete!\n",
      "delted 1008\n",
      "docs 4 keep 24270 2024-02-23 17:23:56.078185\n",
      "Run complete!\n",
      "delted 4\n",
      "CPU times: total: 6.44 s\n",
      "Wall time: 6min 32s\n"
     ]
    }
   ],
   "source": [
    "%%time\n",
    "collection = muuid\n",
    "\n",
    "# Calculate the start date for 2 months ago\n",
    "for i in range(0,4):\n",
    "    start_date = datetime.datetime.now() - datetime.timedelta(days=(i+1)*40) #150 to \n",
    "    end_date = datetime.datetime.now() - datetime.timedelta(days=i*40)\n",
    "    \n",
    "    current_date = start_date\n",
    "    \n",
    "    would_delete = []\n",
    "    \n",
    "    while current_date < end_date:\n",
    "        next_date = current_date + datetime.timedelta(days=40)\n",
    "        \n",
    "        # Group documents by unique fields excluding _id and date\n",
    "        pipeline = [\n",
    "            {\n",
    "                '$match': {\n",
    "                    'date': {'$gte': current_date, '$lt': next_date}\n",
    "                }\n",
    "            },\n",
    "            {\n",
    "                '$group': {\n",
    "                    '_id': {\n",
    "                        'musername': '$musername',\n",
    "                        'muuid': '$muuid',\n",
    "                        'musid': '$musid',\n",
    "                        'con_address': '$con_address',\n",
    "                        'color': '$color',\n",
    "                        'servername': '$servername'\n",
    "                    },\n",
    "                    'latest': {'$max': '$date'},\n",
    "                    'docs': {'$push': {'_id': '$_id', 'date': '$date'}}\n",
    "                }\n",
    "            }\n",
    "        ]\n",
    "    \n",
    "        # Execute the aggregation pipeline\n",
    "        result = collection.aggregate(pipeline)\n",
    "    \n",
    "        # Loop through the aggregation result\n",
    "        keep=0\n",
    "        for doc in result:\n",
    "            latest_date = doc['latest']\n",
    "            docs = doc['docs']\n",
    "            latest_id = None\n",
    "    \n",
    "            # Find the document with the latest date\n",
    "            for d in docs:\n",
    "                if d['date'] == latest_date:\n",
    "                    latest_id = d['_id']\n",
    "    \n",
    "            # Print all other documents except the latest one\n",
    "            if latest_id:\n",
    "                keep+=1\n",
    "                for d in docs:\n",
    "                    if d['_id'] != latest_id:\n",
    "                        #print(f\"Would delete document: {d['_id']}\")\n",
    "                        would_delete.append(d['_id'])\n",
    "        print(\"docs\",len(would_delete),\"keep\",keep,next_date)\n",
    "    \n",
    "        current_date = next_date\n",
    "    \n",
    "    print(\"Run complete!\")\n",
    "    res = muuid.delete_many({'_id': {'$in': would_delete}})\n",
    "    print(\"delted\",res.deleted_count)"
   ]
  },
  {
   "cell_type": "code",
   "execution_count": 13,
   "id": "81f55d97-1233-422d-9165-2b9431f7f6c4",
   "metadata": {},
   "outputs": [
    {
     "name": "stdout",
     "output_type": "stream",
     "text": [
      "CPU times: total: 46.9 ms\n",
      "Wall time: 7.6 s\n"
     ]
    }
   ],
   "source": [
    "%%time\n",
    "from bson.objectid import ObjectId\n",
    "\n",
    "object_id_list = [ObjectId(idd) for idd in would_delete]\n",
    "query = {'_id': {'$in': object_id_list}}\n",
    "\n",
    "matching_documents = muuid.find(query)\n",
    "counts=0\n",
    "for doc in matching_documents:\n",
    "    #print(doc)\n",
    "    counts+=1"
   ]
  },
  {
   "cell_type": "code",
   "execution_count": 14,
   "id": "9b4392b3-9275-408c-ae93-e0aa6175ae29",
   "metadata": {},
   "outputs": [
    {
     "data": {
      "text/plain": [
       "13346"
      ]
     },
     "execution_count": 14,
     "metadata": {},
     "output_type": "execute_result"
    }
   ],
   "source": [
    "counts"
   ]
  },
  {
   "cell_type": "code",
   "execution_count": null,
   "id": "cf13f54b-160b-4845-8690-3bd5ba2eaab2",
   "metadata": {},
   "outputs": [],
   "source": []
  }
 ],
 "metadata": {
  "kernelspec": {
   "display_name": "Python 3 (ipykernel)",
   "language": "python",
   "name": "python3"
  },
  "language_info": {
   "codemirror_mode": {
    "name": "ipython",
    "version": 3
   },
   "file_extension": ".py",
   "mimetype": "text/x-python",
   "name": "python",
   "nbconvert_exporter": "python",
   "pygments_lexer": "ipython3",
   "version": "3.9.1"
  }
 },
 "nbformat": 4,
 "nbformat_minor": 5
}
