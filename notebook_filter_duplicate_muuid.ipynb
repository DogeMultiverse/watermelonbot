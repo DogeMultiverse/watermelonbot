{
 "cells": [
  {
   "cell_type": "code",
   "execution_count": 4,
   "id": "9c599d5c-925e-40e1-aac8-ec59048106b2",
   "metadata": {},
   "outputs": [],
   "source": [
    "import json\n",
    "import pymongo\n",
    "from pymongo.database import Database\n",
    "from pymongo.collection import Collection\n",
    "from time import time\n",
    "import datetime\n",
    "with open(\"watermelon.config\", \"rb\") as f:\n",
    "    js = json.load(f)\n",
    "    mongo_key: str = js[\"mongo_key\"]\n",
    "    prefix: str = js[\"prefix\"]\n",
    "\n",
    "if prefix in [\"w?\", \"t?\"]:  # only access mongodb for w? and t?\n",
    "    client = pymongo.MongoClient(mongo_key)\n",
    "    db: Database = client.get_database(\"AlexMindustry\")\n",
    "    expgains: Collection = db[\"expgains\"]\n",
    "    convertedexp: Collection = db[\"convertedexp\"]\n",
    "    muuid: Collection = db[\"muuid\"]\n",
    "    # V7 stuff\n",
    "    expv7: Collection = db[\"expv7\"]\n",
    "    convertedexpv7: Collection = db[\"convertedexpv7\"]\n",
    "    ingamecosmeticsv7: Collection = db[\"ingamecosmeticsv7\"]\n",
    "    serverplayerupdates1: Collection = db[\"serverplayerupdates1\"]\n",
    "    hexv7: Collection = db[\"hexdataV7\"]"
   ]
  },
  {
   "cell_type": "markdown",
   "id": "0da886ab-b354-4896-bd41-61675aa7d0fb",
   "metadata": {},
   "source": [
    "## this notebook filters documents with duplicated muuid,usid,ip. and keeps the unique one with the latest date.\n",
    "\n",
    "## to clean up, run the first 3 cells"
   ]
  },
  {
   "cell_type": "code",
   "execution_count": 2,
   "id": "546514f7-7566-441b-baeb-9dbab3b7d425",
   "metadata": {},
   "outputs": [],
   "source": [
    "def clean_up_duplicate_muuid(timedeltadays=3,num_of_days_in_the_past=100):\n",
    "    for i in range(0,num_of_days_in_the_past//timedeltadays):\n",
    "        start_date = datetime.datetime.now() - datetime.timedelta(days=(i+1)*timedeltadays)\n",
    "        end_date = datetime.datetime.now() - datetime.timedelta(days=i*timedeltadays)\n",
    "        current_date = start_date\n",
    "        would_delete = []\n",
    "        while current_date < end_date:\n",
    "            next_date = current_date + datetime.timedelta(days=timedeltadays)\n",
    "            # Group documents by unique fields excluding _id and date\n",
    "            pipeline = [\n",
    "                {\n",
    "                    '$match': {\n",
    "                        'date': {'$gte': current_date, '$lt': next_date}\n",
    "                    }\n",
    "                },\n",
    "                {\n",
    "                    '$group': {\n",
    "                        '_id': {\n",
    "                            'musername': '$musername',\n",
    "                            'muuid': '$muuid',\n",
    "                            'musid': '$musid',\n",
    "                            'con_address': '$con_address',\n",
    "                            'color': '$color',\n",
    "                            'servername': '$servername'\n",
    "                        },\n",
    "                        'latest': {'$max': '$date'},\n",
    "                        'docs': {'$push': {'_id': '$_id', 'date': '$date'}}\n",
    "                    }\n",
    "                }\n",
    "            ]\n",
    "            # Execute the aggregation pipeline\n",
    "            result = muuid.aggregate(pipeline)\n",
    "            # Loop through the aggregation result\n",
    "            keep=0\n",
    "            for doc in result:\n",
    "                latest_date = doc['latest']\n",
    "                docs = doc['docs']\n",
    "                latest_id = None\n",
    "                # Find the document with the latest date\n",
    "                for d in docs:\n",
    "                    if d['date'] == latest_date:\n",
    "                        latest_id = d['_id']\n",
    "        \n",
    "                # Print all other documents except the latest one\n",
    "                if latest_id:\n",
    "                    keep+=1\n",
    "                    for d in docs:\n",
    "                        if d['_id'] != latest_id:\n",
    "                            #print(f\"Would delete document: {d['_id']}\")\n",
    "                            would_delete.append(d['_id'])\n",
    "            print(\"docs\",len(would_delete),\"keep\",keep,next_date)\n",
    "            current_date = next_date\n",
    "        res = muuid.delete_many({'_id': {'$in': would_delete}})\n",
    "        print(\"deleted\",res.deleted_count)\n",
    "    print(\"Run complete!\")"
   ]
  },
  {
   "cell_type": "code",
   "execution_count": 3,
   "id": "f7a20c83-19e9-4add-abdf-c6eb8f8e23df",
   "metadata": {},
   "outputs": [
    {
     "name": "stdout",
     "output_type": "stream",
     "text": [
      "docs 9 keep 12612 2024-07-16 16:33:40.141333\n",
      "deleted 9\n",
      "docs 0 keep 14563 2024-07-13 16:33:54.220665\n",
      "deleted 0\n",
      "docs 0 keep 14269 2024-07-10 16:34:06.079679\n",
      "deleted 0\n",
      "docs 0 keep 10687 2024-07-07 16:34:16.752974\n",
      "deleted 0\n",
      "docs 0 keep 10250 2024-07-04 16:34:25.961808\n",
      "deleted 0\n",
      "docs 0 keep 10859 2024-07-01 16:34:34.705233\n",
      "deleted 0\n",
      "docs 0 keep 11221 2024-06-28 16:34:43.173262\n",
      "deleted 0\n",
      "docs 0 keep 16134 2024-06-25 16:34:51.759847\n",
      "deleted 0\n",
      "docs 0 keep 17126 2024-06-22 16:35:04.516645\n",
      "deleted 0\n",
      "docs 0 keep 11434 2024-06-19 16:35:18.371400\n",
      "deleted 0\n",
      "docs 0 keep 13451 2024-06-16 16:35:29.085304\n",
      "docs 0 keep 11434 2024-06-19 16:35:29.085304\n",
      "deleted 0\n",
      "docs 0 keep 12452 2024-06-13 16:35:49.281117\n",
      "deleted 0\n",
      "docs 0 keep 14850 2024-06-10 16:36:00.050760\n",
      "deleted 0\n",
      "docs 0 keep 12612 2024-06-07 16:36:12.670533\n",
      "deleted 0\n",
      "docs 0 keep 12454 2024-06-04 16:36:22.928347\n",
      "deleted 0\n",
      "docs 0 keep 12862 2024-06-01 16:36:33.029829\n",
      "deleted 0\n",
      "docs 0 keep 13506 2024-05-29 16:36:45.770291\n",
      "deleted 0\n",
      "docs 0 keep 14850 2024-05-26 16:36:57.097842\n",
      "deleted 0\n",
      "docs 0 keep 13576 2024-05-23 16:37:08.946067\n",
      "deleted 0\n",
      "docs 0 keep 16973 2024-05-20 16:37:20.087272\n",
      "deleted 0\n",
      "docs 0 keep 16021 2024-05-17 16:37:31.785883\n",
      "deleted 0\n",
      "docs 0 keep 15069 2024-05-14 16:37:45.218743\n",
      "deleted 0\n",
      "docs 0 keep 14677 2024-05-11 16:37:55.408846\n",
      "deleted 0\n",
      "docs 0 keep 11222 2024-05-08 16:38:06.334899\n",
      "deleted 0\n",
      "docs 0 keep 14466 2024-05-05 16:38:15.557992\n",
      "deleted 0\n",
      "docs 0 keep 11341 2024-05-02 16:38:27.310411\n",
      "deleted 0\n",
      "docs 0 keep 11568 2024-04-29 16:38:36.075751\n",
      "deleted 0\n",
      "docs 0 keep 9465 2024-04-26 16:38:45.522459\n",
      "deleted 0\n",
      "docs 0 keep 11147 2024-04-23 16:38:54.966885\n",
      "deleted 0\n",
      "docs 0 keep 11177 2024-04-20 16:39:03.429236\n",
      "deleted 0\n",
      "docs 0 keep 10240 2024-04-17 16:39:13.972886\n",
      "deleted 0\n",
      "docs 0 keep 11761 2024-04-14 16:39:23.150438\n",
      "deleted 0\n",
      "docs 0 keep 10885 2024-04-11 16:39:31.858091\n",
      "deleted 0\n",
      "Run complete!\n",
      "docs 12 keep 45088 2024-07-16 16:39:41.062007\n",
      "deleted 12\n",
      "docs 0 keep 35282 2024-07-06 16:40:02.272582\n",
      "deleted 0\n",
      "docs 0 keep 48780 2024-06-26 16:40:21.208180\n",
      "deleted 0\n",
      "docs 0 keep 45012 2024-06-16 16:40:41.672314\n",
      "deleted 0\n",
      "docs 0 keep 42564 2024-06-06 16:41:01.082092\n",
      "deleted 0\n",
      "docs 0 keep 49995 2024-05-27 16:41:20.317812\n",
      "deleted 0\n",
      "docs 0 keep 49609 2024-05-17 16:41:45.615742\n",
      "deleted 0\n",
      "docs 0 keep 40794 2024-05-07 16:42:09.331792\n",
      "deleted 0\n",
      "docs 0 keep 35762 2024-04-27 16:42:35.956950\n",
      "deleted 0\n",
      "docs 0 keep 36399 2024-04-17 16:42:57.408817\n",
      "deleted 0\n",
      "Run complete!\n",
      "docs 9 keep 129150 2024-07-16 16:43:15.850548\n",
      "deleted 9\n",
      "docs 0 keep 137554 2024-06-16 16:44:18.094570\n",
      "deleted 0\n",
      "docs 103 keep 126073 2024-05-17 16:45:24.036782\n",
      "deleted 103\n",
      "Run complete!\n",
      "CPU times: total: 12.8 s\n",
      "Wall time: 12min 44s\n"
     ]
    }
   ],
   "source": [
    "%%time\n",
    "clean_up_duplicate_muuid(timedeltadays=3,num_of_days_in_the_past=100)\n",
    "clean_up_duplicate_muuid(timedeltadays=10,num_of_days_in_the_past=100)\n",
    "clean_up_duplicate_muuid(timedeltadays=30,num_of_days_in_the_past=100) # max is 50."
   ]
  },
  {
   "cell_type": "markdown",
   "id": "8835d649-8cbb-4882-b5a1-14ecaf9c6f7f",
   "metadata": {},
   "source": [
    "# delete old docs in playerserverupdates1"
   ]
  },
  {
   "cell_type": "code",
   "execution_count": 21,
   "id": "ed0ace61-ff1b-43a6-b324-91412781bafd",
   "metadata": {},
   "outputs": [
    {
     "name": "stdout",
     "output_type": "stream",
     "text": [
      "Number of documents to be deleted: 71\n",
      "CPU times: total: 0 ns\n",
      "Wall time: 2.12 s\n"
     ]
    }
   ],
   "source": [
    "%%time\n",
    "num_days_ago = 30\n",
    "days_ago = datetime.datetime.now() - datetime.timedelta(days=num_days_ago)\n",
    "filterr = {'date': {'$lt': days_ago}}\n",
    "# Count the number of documents that would be deleted\n",
    "count = serverplayerupdates1.count_documents(filterr)\n",
    "print(f\"Number of documents to be deleted: {count}\")"
   ]
  },
  {
   "cell_type": "code",
   "execution_count": 22,
   "id": "e03461a1-2239-42f8-8006-e372ab4b63ac",
   "metadata": {},
   "outputs": [
    {
     "name": "stdout",
     "output_type": "stream",
     "text": [
      "Deleted 71 documents.\n",
      "CPU times: total: 0 ns\n",
      "Wall time: 434 ms\n"
     ]
    }
   ],
   "source": [
    "%%time\n",
    "result = serverplayerupdates1.delete_many(filterr)\n",
    "print(f\"Deleted {result.deleted_count} documents.\")"
   ]
  },
  {
   "cell_type": "code",
   "execution_count": null,
   "id": "e189e7b5-f4d4-410e-abf1-341312af25aa",
   "metadata": {},
   "outputs": [],
   "source": []
  },
  {
   "cell_type": "code",
   "execution_count": 2,
   "id": "482d3b50-3ffc-453a-8c45-99af16359f17",
   "metadata": {},
   "outputs": [],
   "source": [
    "t1=time()\n",
    "alexid=612861256189083669\n",
    "xxx1=315764312700485632 #cohl\n",
    "xxx2=1185756027929501718 #cen\n",
    "duuid=alexid\n",
    "t2=time()"
   ]
  },
  {
   "cell_type": "code",
   "execution_count": 38,
   "id": "6e233c34-4a8e-4dac-8a54-9e67f7b3f08e",
   "metadata": {},
   "outputs": [
    {
     "name": "stdout",
     "output_type": "stream",
     "text": [
      "docs 690 keep 188641 2024-06-22 17:17:44.687712\n",
      "Run complete!\n",
      "delted 690\n",
      "docs 3004 keep 157589 2024-05-13 17:20:24.273383\n",
      "Run complete!\n",
      "delted 3004\n",
      "docs 1008 keep 158618 2024-04-03 17:22:16.759669\n",
      "Run complete!\n",
      "delted 1008\n",
      "docs 4 keep 24270 2024-02-23 17:23:56.078185\n",
      "Run complete!\n",
      "delted 4\n",
      "CPU times: total: 6.44 s\n",
      "Wall time: 6min 32s\n"
     ]
    }
   ],
   "source": [
    "%%time\n",
    "collection = muuid\n",
    "\n",
    "# Calculate the start date for 2 months ago\n",
    "for i in range(0,4):\n",
    "    start_date = datetime.datetime.now() - datetime.timedelta(days=(i+1)*40) #150 to \n",
    "    end_date = datetime.datetime.now() - datetime.timedelta(days=i*40)\n",
    "    \n",
    "    current_date = start_date\n",
    "    \n",
    "    would_delete = []\n",
    "    \n",
    "    while current_date < end_date:\n",
    "        next_date = current_date + datetime.timedelta(days=40)\n",
    "        \n",
    "        # Group documents by unique fields excluding _id and date\n",
    "        pipeline = [\n",
    "            {\n",
    "                '$match': {\n",
    "                    'date': {'$gte': current_date, '$lt': next_date}\n",
    "                }\n",
    "            },\n",
    "            {\n",
    "                '$group': {\n",
    "                    '_id': {\n",
    "                        'musername': '$musername',\n",
    "                        'muuid': '$muuid',\n",
    "                        'musid': '$musid',\n",
    "                        'con_address': '$con_address',\n",
    "                        'color': '$color',\n",
    "                        'servername': '$servername'\n",
    "                    },\n",
    "                    'latest': {'$max': '$date'},\n",
    "                    'docs': {'$push': {'_id': '$_id', 'date': '$date'}}\n",
    "                }\n",
    "            }\n",
    "        ]\n",
    "    \n",
    "        # Execute the aggregation pipeline\n",
    "        result = collection.aggregate(pipeline)\n",
    "    \n",
    "        # Loop through the aggregation result\n",
    "        keep=0\n",
    "        for doc in result:\n",
    "            latest_date = doc['latest']\n",
    "            docs = doc['docs']\n",
    "            latest_id = None\n",
    "    \n",
    "            # Find the document with the latest date\n",
    "            for d in docs:\n",
    "                if d['date'] == latest_date:\n",
    "                    latest_id = d['_id']\n",
    "    \n",
    "            # Print all other documents except the latest one\n",
    "            if latest_id:\n",
    "                keep+=1\n",
    "                for d in docs:\n",
    "                    if d['_id'] != latest_id:\n",
    "                        #print(f\"Would delete document: {d['_id']}\")\n",
    "                        would_delete.append(d['_id'])\n",
    "        print(\"docs\",len(would_delete),\"keep\",keep,next_date)\n",
    "    \n",
    "        current_date = next_date\n",
    "    \n",
    "    print(\"Run complete!\")\n",
    "    res = muuid.delete_many({'_id': {'$in': would_delete}})\n",
    "    print(\"delted\",res.deleted_count)"
   ]
  },
  {
   "cell_type": "code",
   "execution_count": 13,
   "id": "81f55d97-1233-422d-9165-2b9431f7f6c4",
   "metadata": {},
   "outputs": [
    {
     "name": "stdout",
     "output_type": "stream",
     "text": [
      "CPU times: total: 46.9 ms\n",
      "Wall time: 7.6 s\n"
     ]
    }
   ],
   "source": [
    "%%time\n",
    "from bson.objectid import ObjectId\n",
    "\n",
    "object_id_list = [ObjectId(idd) for idd in would_delete]\n",
    "query = {'_id': {'$in': object_id_list}}\n",
    "\n",
    "matching_documents = muuid.find(query)\n",
    "counts=0\n",
    "for doc in matching_documents:\n",
    "    #print(doc)\n",
    "    counts+=1"
   ]
  },
  {
   "cell_type": "code",
   "execution_count": 14,
   "id": "9b4392b3-9275-408c-ae93-e0aa6175ae29",
   "metadata": {},
   "outputs": [
    {
     "data": {
      "text/plain": [
       "13346"
      ]
     },
     "execution_count": 14,
     "metadata": {},
     "output_type": "execute_result"
    }
   ],
   "source": [
    "counts"
   ]
  },
  {
   "cell_type": "code",
   "execution_count": null,
   "id": "cf13f54b-160b-4845-8690-3bd5ba2eaab2",
   "metadata": {},
   "outputs": [],
   "source": []
  }
 ],
 "metadata": {
  "kernelspec": {
   "display_name": "Python 3 (ipykernel)",
   "language": "python",
   "name": "python3"
  },
  "language_info": {
   "codemirror_mode": {
    "name": "ipython",
    "version": 3
   },
   "file_extension": ".py",
   "mimetype": "text/x-python",
   "name": "python",
   "nbconvert_exporter": "python",
   "pygments_lexer": "ipython3",
   "version": "3.9.1"
  }
 },
 "nbformat": 4,
 "nbformat_minor": 5
}
