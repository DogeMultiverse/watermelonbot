{
 "cells": [
  {
   "cell_type": "code",
   "execution_count": 1,
   "id": "9c599d5c-925e-40e1-aac8-ec59048106b2",
   "metadata": {},
   "outputs": [],
   "source": [
    "import json\n",
    "import pymongo\n",
    "from pymongo.database import Database\n",
    "from pymongo.collection import Collection\n",
    "from time import time\n",
    "import datetime\n",
    "with open(\"watermelon.config\", \"rb\") as f:\n",
    "    js = json.load(f)\n",
    "    mongo_key: str = js[\"mongo_key\"]\n",
    "    prefix: str = js[\"prefix\"]\n",
    "\n",
    "if prefix in [\"w?\", \"t?\"]:  # only access mongodb for w? and t?\n",
    "    client = pymongo.MongoClient(mongo_key)\n",
    "    db: Database = client.get_database(\"AlexMindustry\")\n",
    "    expgains: Collection = db[\"expgains\"]\n",
    "    convertedexp: Collection = db[\"convertedexp\"]\n",
    "    muuid: Collection = db[\"muuid\"]\n",
    "    # V7 stuff\n",
    "    expv7: Collection = db[\"expv7\"]\n",
    "    convertedexpv7: Collection = db[\"convertedexpv7\"]\n",
    "    ingamecosmeticsv7: Collection = db[\"ingamecosmeticsv7\"]\n",
    "    serverplayerupdates1: Collection = db[\"serverplayerupdates1\"]\n",
    "    hexv7: Collection = db[\"hexdataV7\"]"
   ]
  },
  {
   "cell_type": "markdown",
   "id": "0da886ab-b354-4896-bd41-61675aa7d0fb",
   "metadata": {},
   "source": [
    "## this notebook filters documents with duplicated muuid,usid,ip. and keeps the unique one with the latest date.\n",
    "\n",
    "## to clean up, run the first 3 cells"
   ]
  },
  {
   "cell_type": "code",
   "execution_count": 2,
   "id": "546514f7-7566-441b-baeb-9dbab3b7d425",
   "metadata": {},
   "outputs": [],
   "source": [
    "def clean_up_duplicate_muuid(timedeltadays=3,num_of_days_in_the_past=100):\n",
    "    for i in range(0,num_of_days_in_the_past//timedeltadays):\n",
    "        start_date = datetime.datetime.now() - datetime.timedelta(days=(i+1)*timedeltadays)\n",
    "        end_date = datetime.datetime.now() - datetime.timedelta(days=i*timedeltadays)\n",
    "        current_date = start_date\n",
    "        would_delete = []\n",
    "        while current_date < end_date:\n",
    "            next_date = current_date + datetime.timedelta(days=timedeltadays)\n",
    "            # Group documents by unique fields excluding _id and date\n",
    "            pipeline = [\n",
    "                {\n",
    "                    '$match': {\n",
    "                        'date': {'$gte': current_date, '$lt': next_date}\n",
    "                    }\n",
    "                },\n",
    "                {\n",
    "                    '$group': {\n",
    "                        '_id': {\n",
    "                            'musername': '$musername',\n",
    "                            'muuid': '$muuid',\n",
    "                            'musid': '$musid',\n",
    "                            'con_address': '$con_address',\n",
    "                            'color': '$color',\n",
    "                            'servername': '$servername'\n",
    "                        },\n",
    "                        'latest': {'$max': '$date'},\n",
    "                        'docs': {'$push': {'_id': '$_id', 'date': '$date'}}\n",
    "                    }\n",
    "                }\n",
    "            ]\n",
    "            # Execute the aggregation pipeline\n",
    "            result = muuid.aggregate(pipeline)\n",
    "            # Loop through the aggregation result\n",
    "            keep=0\n",
    "            for doc in result:\n",
    "                latest_date = doc['latest']\n",
    "                docs = doc['docs']\n",
    "                latest_id = None\n",
    "                # Find the document with the latest date\n",
    "                for d in docs:\n",
    "                    if d['date'] == latest_date:\n",
    "                        latest_id = d['_id']\n",
    "        \n",
    "                # Print all other documents except the latest one\n",
    "                if latest_id:\n",
    "                    keep+=1\n",
    "                    for d in docs:\n",
    "                        if d['_id'] != latest_id:\n",
    "                            #print(f\"Would delete document: {d['_id']}\")\n",
    "                            would_delete.append(d['_id'])\n",
    "            print(\"docs\",len(would_delete),\"keep\",keep,next_date)\n",
    "            current_date = next_date\n",
    "        res = muuid.delete_many({'_id': {'$in': would_delete}})\n",
    "        print(\"deleted\",res.deleted_count)\n",
    "    print(\"Run complete!\")"
   ]
  },
  {
   "cell_type": "code",
   "execution_count": 3,
   "id": "f7a20c83-19e9-4add-abdf-c6eb8f8e23df",
   "metadata": {},
   "outputs": [
    {
     "name": "stdout",
     "output_type": "stream",
     "text": [
      "docs 4851 keep 13202 2024-08-31 12:45:50.347515\n",
      "deleted 4851\n",
      "docs 5718 keep 9507 2024-08-28 12:45:58.367481\n",
      "deleted 5718\n",
      "docs 7037 keep 10959 2024-08-25 12:46:05.301512\n",
      "deleted 7037\n",
      "docs 6420 keep 10272 2024-08-22 12:46:12.240885\n",
      "deleted 6420\n",
      "docs 7706 keep 11394 2024-08-19 12:46:20.774229\n",
      "deleted 7706\n",
      "docs 6325 keep 10604 2024-08-16 12:46:27.755992\n",
      "deleted 6325\n",
      "docs 6747 keep 10845 2024-08-13 12:46:33.688744\n",
      "deleted 6747\n",
      "docs 7036 keep 12415 2024-08-10 12:46:42.258968\n",
      "deleted 7036\n",
      "docs 6154 keep 12098 2024-08-07 12:46:49.234460\n",
      "deleted 6154\n",
      "docs 7395 keep 11839 2024-08-04 12:46:57.056684\n",
      "deleted 7395\n",
      "docs 4999 keep 8019 2024-08-01 12:47:05.999278\n",
      "deleted 4999\n",
      "docs 8545 keep 11988 2024-07-29 12:47:13.997338\n",
      "deleted 8545\n",
      "docs 8257 keep 12106 2024-07-26 12:47:21.902220\n",
      "deleted 8257\n",
      "docs 8459 keep 14203 2024-07-23 12:47:28.411793\n",
      "deleted 8459\n",
      "docs 8260 keep 16704 2024-07-20 12:47:36.659434\n",
      "deleted 8260\n",
      "docs 3878 keep 14268 2024-07-17 12:47:45.813568\n",
      "deleted 3878\n",
      "docs 0 keep 14634 2024-07-14 12:47:54.169552\n",
      "deleted 0\n",
      "docs 0 keep 14427 2024-07-11 12:47:57.726351\n",
      "deleted 0\n",
      "docs 0 keep 11423 2024-07-08 12:48:00.400875\n",
      "deleted 0\n",
      "docs 0 keep 10986 2024-07-05 12:48:02.813544\n",
      "deleted 0\n",
      "docs 0 keep 10070 2024-07-02 12:48:05.383614\n",
      "deleted 0\n",
      "docs 0 keep 10982 2024-06-29 12:48:07.739717\n",
      "deleted 0\n",
      "docs 0 keep 12992 2024-06-26 12:48:10.062251\n",
      "deleted 0\n",
      "docs 0 keep 20480 2024-06-23 12:48:12.636973\n",
      "deleted 0\n",
      "docs 0 keep 11524 2024-06-20 12:48:16.123509\n",
      "deleted 0\n",
      "docs 0 keep 13276 2024-06-17 12:48:18.522651\n",
      "deleted 0\n",
      "docs 0 keep 12375 2024-06-14 12:48:21.184280\n",
      "deleted 0\n",
      "docs 0 keep 13826 2024-06-11 12:48:23.787200\n",
      "deleted 0\n",
      "docs 0 keep 13754 2024-06-08 12:48:26.403951\n",
      "deleted 0\n",
      "docs 0 keep 11812 2024-06-05 12:48:29.109418\n",
      "deleted 0\n",
      "docs 0 keep 13303 2024-06-02 12:48:31.652651\n",
      "deleted 0\n",
      "docs 0 keep 13257 2024-05-30 12:48:34.320541\n",
      "deleted 0\n",
      "docs 0 keep 14987 2024-05-27 12:48:36.917511\n",
      "deleted 0\n",
      "Run complete!\n",
      "docs 3025 keep 34200 2024-08-31 12:48:39.708496\n",
      "deleted 3025\n",
      "docs 3281 keep 32572 2024-08-21 12:48:44.487675\n",
      "deleted 3281\n",
      "docs 3154 keep 36910 2024-08-11 12:48:53.557306\n",
      "deleted 3154\n",
      "docs 3564 keep 34002 2024-08-01 12:49:03.556750\n",
      "deleted 3564\n",
      "docs 3015 keep 46287 2024-07-22 12:49:12.419873\n",
      "deleted 3015\n",
      "docs 0 keep 41878 2024-07-12 12:49:21.038241\n",
      "deleted 0\n",
      "docs 0 keep 41319 2024-07-02 12:49:27.110130\n",
      "deleted 0\n",
      "docs 0 keep 46340 2024-06-22 12:49:32.020738\n",
      "deleted 0\n",
      "docs 0 keep 43436 2024-06-12 12:49:37.339726\n",
      "deleted 0\n",
      "docs 0 keep 45987 2024-06-02 12:49:42.288685\n",
      "deleted 0\n",
      "Run complete!\n",
      "docs 3883 keep 99806 2024-08-31 12:49:47.795623\n",
      "deleted 3883\n",
      "docs 3086 keep 119081 2024-08-01 12:49:59.056838\n",
      "deleted 3086\n",
      "docs 151 keep 130940 2024-07-02 12:50:12.418243\n",
      "deleted 151\n",
      "Run complete!\n",
      "CPU times: total: 6.8 s\n",
      "Wall time: 4min 41s\n"
     ]
    }
   ],
   "source": [
    "%%time\n",
    "clean_up_duplicate_muuid(timedeltadays=3,num_of_days_in_the_past=100)\n",
    "clean_up_duplicate_muuid(timedeltadays=10,num_of_days_in_the_past=100)\n",
    "clean_up_duplicate_muuid(timedeltadays=30,num_of_days_in_the_past=100) # max is 50."
   ]
  },
  {
   "cell_type": "markdown",
   "id": "8835d649-8cbb-4882-b5a1-14ecaf9c6f7f",
   "metadata": {},
   "source": [
    "# delete old docs in playerserverupdates1\n",
    "\n",
    "# this will delete incrementally in batches of 10 days"
   ]
  },
  {
   "cell_type": "code",
   "execution_count": 18,
   "id": "88615c2d",
   "metadata": {},
   "outputs": [
    {
     "name": "stdout",
     "output_type": "stream",
     "text": [
      "dry run\n",
      "Number of documents to be deleted: 0\n",
      "Number of documents to be deleted: 0\n",
      "Number of documents to be deleted: 0\n",
      "Number of documents to be deleted: 0\n",
      "Number of documents to be deleted: 0\n",
      "Number of documents to be deleted: 0\n",
      "Number of documents to be deleted: 0\n",
      "Number of documents to be deleted: 73584\n",
      "Number of documents to be deleted: 143290\n"
     ]
    }
   ],
   "source": [
    "print(\"DRY RUN\")\n",
    "num_days_ago = 30 # delete docs older than X days.\n",
    "for num_days_ago in list(range(90,5,-10)):\n",
    "    days_ago = datetime.datetime.now() - datetime.timedelta(days=num_days_ago)\n",
    "    filterr = {'date': {'$lt': days_ago}}\n",
    "    # Count the number of documents that would be deleted\n",
    "    count = serverplayerupdates1.count_documents(filterr)\n",
    "    print(f\"Number of documents to be deleted: {count}\")"
   ]
  },
  {
   "cell_type": "code",
   "execution_count": 19,
   "id": "2111829b",
   "metadata": {},
   "outputs": [
    {
     "name": "stdout",
     "output_type": "stream",
     "text": [
      "actual run\n",
      "Number of documents to be deleted: 0\n",
      "Deleted 0 documents.\n",
      "Number of documents to be deleted: 0\n",
      "Deleted 0 documents.\n",
      "Number of documents to be deleted: 0\n",
      "Deleted 0 documents.\n",
      "Number of documents to be deleted: 0\n",
      "Deleted 0 documents.\n",
      "Number of documents to be deleted: 0\n",
      "Deleted 0 documents.\n",
      "Number of documents to be deleted: 0\n",
      "Deleted 0 documents.\n",
      "Number of documents to be deleted: 8\n",
      "Deleted 8 documents.\n",
      "Number of documents to be deleted: 73594\n",
      "Deleted 73594 documents.\n",
      "Number of documents to be deleted: 69697\n",
      "Deleted 69697 documents.\n"
     ]
    }
   ],
   "source": [
    "print(\"ACTUAL RUN\")\n",
    "num_days_ago = 30 # delete docs older than X days.\n",
    "for num_days_ago in list(range(90,5,-10)):\n",
    "    days_ago = datetime.datetime.now() - datetime.timedelta(days=num_days_ago)\n",
    "    filterr = {'date': {'$lt': days_ago}}\n",
    "    # Count the number of documents that would be deleted\n",
    "    count = serverplayerupdates1.count_documents(filterr)\n",
    "    print(f\"Number of documents to be deleted: {count}\")\n",
    "    result = serverplayerupdates1.delete_many(filterr)\n",
    "    print(f\"Deleted {result.deleted_count} documents.\")"
   ]
  },
  {
   "cell_type": "markdown",
   "id": "491a6f11",
   "metadata": {},
   "source": [
    "# END OF FILE"
   ]
  },
  {
   "cell_type": "code",
   "execution_count": null,
   "id": "e7d2cd35",
   "metadata": {},
   "outputs": [],
   "source": []
  },
  {
   "cell_type": "code",
   "execution_count": null,
   "id": "edd1d2a7",
   "metadata": {},
   "outputs": [],
   "source": []
  },
  {
   "cell_type": "code",
   "execution_count": null,
   "id": "2affbe16",
   "metadata": {},
   "outputs": [],
   "source": []
  },
  {
   "cell_type": "code",
   "execution_count": null,
   "id": "a28ce9ea",
   "metadata": {},
   "outputs": [],
   "source": []
  },
  {
   "cell_type": "code",
   "execution_count": 15,
   "id": "ed0ace61-ff1b-43a6-b324-91412781bafd",
   "metadata": {},
   "outputs": [
    {
     "name": "stdout",
     "output_type": "stream",
     "text": [
      "Number of documents to be deleted: 80007\n",
      "CPU times: total: 15.6 ms\n",
      "Wall time: 411 ms\n"
     ]
    }
   ],
   "source": [
    "%%time\n",
    "num_days_ago = 30 # delete docs older than X days.\n",
    "days_ago = datetime.datetime.now() - datetime.timedelta(days=num_days_ago)\n",
    "filterr = {'date': {'$lt': days_ago}}\n",
    "# Count the number of documents that would be deleted\n",
    "count = serverplayerupdates1.count_documents(filterr)\n",
    "print(f\"Number of documents to be deleted: {count}\")"
   ]
  },
  {
   "cell_type": "code",
   "execution_count": 17,
   "id": "1c3bd09d",
   "metadata": {},
   "outputs": [
    {
     "data": {
      "text/plain": [
       "[90, 80, 70, 60, 50, 40, 30, 20, 10]"
      ]
     },
     "execution_count": 17,
     "metadata": {},
     "output_type": "execute_result"
    }
   ],
   "source": [
    "list(range(90,5,-10))"
   ]
  },
  {
   "cell_type": "code",
   "execution_count": null,
   "id": "7af4d684",
   "metadata": {},
   "outputs": [],
   "source": []
  },
  {
   "cell_type": "code",
   "execution_count": 16,
   "id": "e03461a1-2239-42f8-8006-e372ab4b63ac",
   "metadata": {},
   "outputs": [
    {
     "name": "stdout",
     "output_type": "stream",
     "text": [
      "Deleted 80007 documents.\n",
      "CPU times: total: 0 ns\n",
      "Wall time: 17.3 s\n"
     ]
    }
   ],
   "source": [
    "%%time\n",
    "result = serverplayerupdates1.delete_many(filterr)\n",
    "print(f\"Deleted {result.deleted_count} documents.\")"
   ]
  },
  {
   "cell_type": "code",
   "execution_count": null,
   "id": "e189e7b5-f4d4-410e-abf1-341312af25aa",
   "metadata": {},
   "outputs": [],
   "source": []
  },
  {
   "cell_type": "code",
   "execution_count": 2,
   "id": "482d3b50-3ffc-453a-8c45-99af16359f17",
   "metadata": {},
   "outputs": [],
   "source": [
    "t1=time()\n",
    "alexid=612861256189083669\n",
    "xxx1=315764312700485632 #cohl\n",
    "xxx2=1185756027929501718 #cen\n",
    "duuid=alexid\n",
    "t2=time()"
   ]
  },
  {
   "cell_type": "code",
   "execution_count": 38,
   "id": "6e233c34-4a8e-4dac-8a54-9e67f7b3f08e",
   "metadata": {},
   "outputs": [
    {
     "name": "stdout",
     "output_type": "stream",
     "text": [
      "docs 690 keep 188641 2024-06-22 17:17:44.687712\n",
      "Run complete!\n",
      "delted 690\n",
      "docs 3004 keep 157589 2024-05-13 17:20:24.273383\n",
      "Run complete!\n",
      "delted 3004\n",
      "docs 1008 keep 158618 2024-04-03 17:22:16.759669\n",
      "Run complete!\n",
      "delted 1008\n",
      "docs 4 keep 24270 2024-02-23 17:23:56.078185\n",
      "Run complete!\n",
      "delted 4\n",
      "CPU times: total: 6.44 s\n",
      "Wall time: 6min 32s\n"
     ]
    }
   ],
   "source": [
    "%%time\n",
    "collection = muuid\n",
    "\n",
    "# Calculate the start date for 2 months ago\n",
    "for i in range(0,4):\n",
    "    start_date = datetime.datetime.now() - datetime.timedelta(days=(i+1)*40) #150 to \n",
    "    end_date = datetime.datetime.now() - datetime.timedelta(days=i*40)\n",
    "    \n",
    "    current_date = start_date\n",
    "    \n",
    "    would_delete = []\n",
    "    \n",
    "    while current_date < end_date:\n",
    "        next_date = current_date + datetime.timedelta(days=40)\n",
    "        \n",
    "        # Group documents by unique fields excluding _id and date\n",
    "        pipeline = [\n",
    "            {\n",
    "                '$match': {\n",
    "                    'date': {'$gte': current_date, '$lt': next_date}\n",
    "                }\n",
    "            },\n",
    "            {\n",
    "                '$group': {\n",
    "                    '_id': {\n",
    "                        'musername': '$musername',\n",
    "                        'muuid': '$muuid',\n",
    "                        'musid': '$musid',\n",
    "                        'con_address': '$con_address',\n",
    "                        'color': '$color',\n",
    "                        'servername': '$servername'\n",
    "                    },\n",
    "                    'latest': {'$max': '$date'},\n",
    "                    'docs': {'$push': {'_id': '$_id', 'date': '$date'}}\n",
    "                }\n",
    "            }\n",
    "        ]\n",
    "    \n",
    "        # Execute the aggregation pipeline\n",
    "        result = collection.aggregate(pipeline)\n",
    "    \n",
    "        # Loop through the aggregation result\n",
    "        keep=0\n",
    "        for doc in result:\n",
    "            latest_date = doc['latest']\n",
    "            docs = doc['docs']\n",
    "            latest_id = None\n",
    "    \n",
    "            # Find the document with the latest date\n",
    "            for d in docs:\n",
    "                if d['date'] == latest_date:\n",
    "                    latest_id = d['_id']\n",
    "    \n",
    "            # Print all other documents except the latest one\n",
    "            if latest_id:\n",
    "                keep+=1\n",
    "                for d in docs:\n",
    "                    if d['_id'] != latest_id:\n",
    "                        #print(f\"Would delete document: {d['_id']}\")\n",
    "                        would_delete.append(d['_id'])\n",
    "        print(\"docs\",len(would_delete),\"keep\",keep,next_date)\n",
    "    \n",
    "        current_date = next_date\n",
    "    \n",
    "    print(\"Run complete!\")\n",
    "    res = muuid.delete_many({'_id': {'$in': would_delete}})\n",
    "    print(\"delted\",res.deleted_count)"
   ]
  },
  {
   "cell_type": "code",
   "execution_count": 13,
   "id": "81f55d97-1233-422d-9165-2b9431f7f6c4",
   "metadata": {},
   "outputs": [
    {
     "name": "stdout",
     "output_type": "stream",
     "text": [
      "CPU times: total: 46.9 ms\n",
      "Wall time: 7.6 s\n"
     ]
    }
   ],
   "source": [
    "%%time\n",
    "from bson.objectid import ObjectId\n",
    "\n",
    "object_id_list = [ObjectId(idd) for idd in would_delete]\n",
    "query = {'_id': {'$in': object_id_list}}\n",
    "\n",
    "matching_documents = muuid.find(query)\n",
    "counts=0\n",
    "for doc in matching_documents:\n",
    "    #print(doc)\n",
    "    counts+=1"
   ]
  },
  {
   "cell_type": "code",
   "execution_count": 14,
   "id": "9b4392b3-9275-408c-ae93-e0aa6175ae29",
   "metadata": {},
   "outputs": [
    {
     "data": {
      "text/plain": [
       "13346"
      ]
     },
     "execution_count": 14,
     "metadata": {},
     "output_type": "execute_result"
    }
   ],
   "source": [
    "counts"
   ]
  },
  {
   "cell_type": "code",
   "execution_count": null,
   "id": "cf13f54b-160b-4845-8690-3bd5ba2eaab2",
   "metadata": {},
   "outputs": [],
   "source": []
  }
 ],
 "metadata": {
  "kernelspec": {
   "display_name": "Python 3 (ipykernel)",
   "language": "python",
   "name": "python3"
  },
  "language_info": {
   "codemirror_mode": {
    "name": "ipython",
    "version": 3
   },
   "file_extension": ".py",
   "mimetype": "text/x-python",
   "name": "python",
   "nbconvert_exporter": "python",
   "pygments_lexer": "ipython3",
   "version": "3.9.1"
  }
 },
 "nbformat": 4,
 "nbformat_minor": 5
}
