{
 "cells": [
  {
   "cell_type": "code",
   "execution_count": 1,
   "id": "9c599d5c-925e-40e1-aac8-ec59048106b2",
   "metadata": {},
   "outputs": [],
   "source": [
    "import json\n",
    "import pymongo\n",
    "from pymongo.database import Database\n",
    "from pymongo.collection import Collection\n",
    "from time import time\n",
    "import datetime\n",
    "with open(\"watermelon.config\", \"rb\") as f:\n",
    "    js = json.load(f)\n",
    "    mongo_key: str = js[\"mongo_key\"]\n",
    "    prefix: str = js[\"prefix\"]\n",
    "\n",
    "if prefix in [\"w?\", \"t?\"]:  # only access mongodb for w? and t?\n",
    "    client = pymongo.MongoClient(mongo_key)\n",
    "    db: Database = client.get_database(\"AlexMindustry\")\n",
    "    expgains: Collection = db[\"expgains\"]\n",
    "    convertedexp: Collection = db[\"convertedexp\"]\n",
    "    muuid: Collection = db[\"muuid\"]\n",
    "    # V7 stuff\n",
    "    expv7: Collection = db[\"expv7\"]\n",
    "    convertedexpv7: Collection = db[\"convertedexpv7\"]\n",
    "    ingamecosmeticsv7: Collection = db[\"ingamecosmeticsv7\"]\n",
    "    serverplayerupdates: Collection = db[\"serverplayerupdates\"]\n",
    "    hexv7: Collection = db[\"hexdataV7\"]"
   ]
  },
  {
   "cell_type": "code",
   "execution_count": 2,
   "id": "482d3b50-3ffc-453a-8c45-99af16359f17",
   "metadata": {},
   "outputs": [],
   "source": [
    "t1=time()\n",
    "alexid=612861256189083669\n",
    "xxx1=315764312700485632 #cohl\n",
    "xxx2=1185756027929501718 #cen\n",
    "duuid=alexid\n",
    "t2=time()"
   ]
  },
  {
   "cell_type": "markdown",
   "id": "0da886ab-b354-4896-bd41-61675aa7d0fb",
   "metadata": {},
   "source": [
    "## this notebook filters documents with duplicated muuid,usid,ip. and keeps the unique one with the latest date."
   ]
  },
  {
   "cell_type": "code",
   "execution_count": 38,
   "id": "6e233c34-4a8e-4dac-8a54-9e67f7b3f08e",
   "metadata": {},
   "outputs": [
    {
     "name": "stdout",
     "output_type": "stream",
     "text": [
      "docs 690 keep 188641 2024-06-22 17:17:44.687712\n",
      "Run complete!\n",
      "delted 690\n",
      "docs 3004 keep 157589 2024-05-13 17:20:24.273383\n",
      "Run complete!\n",
      "delted 3004\n",
      "docs 1008 keep 158618 2024-04-03 17:22:16.759669\n",
      "Run complete!\n",
      "delted 1008\n",
      "docs 4 keep 24270 2024-02-23 17:23:56.078185\n",
      "Run complete!\n",
      "delted 4\n",
      "CPU times: total: 6.44 s\n",
      "Wall time: 6min 32s\n"
     ]
    }
   ],
   "source": [
    "%%time\n",
    "collection = muuid\n",
    "\n",
    "# Calculate the start date for 2 months ago\n",
    "for i in range(0,4):\n",
    "    start_date = datetime.datetime.now() - datetime.timedelta(days=(i+1)*40) #150 to \n",
    "    end_date = datetime.datetime.now() - datetime.timedelta(days=i*40)\n",
    "    \n",
    "    current_date = start_date\n",
    "    \n",
    "    would_delete = []\n",
    "    \n",
    "    while current_date < end_date:\n",
    "        next_date = current_date + datetime.timedelta(days=40)\n",
    "        \n",
    "        # Group documents by unique fields excluding _id and date\n",
    "        pipeline = [\n",
    "            {\n",
    "                '$match': {\n",
    "                    'date': {'$gte': current_date, '$lt': next_date}\n",
    "                }\n",
    "            },\n",
    "            {\n",
    "                '$group': {\n",
    "                    '_id': {\n",
    "                        'musername': '$musername',\n",
    "                        'muuid': '$muuid',\n",
    "                        'musid': '$musid',\n",
    "                        'con_address': '$con_address',\n",
    "                        'color': '$color',\n",
    "                        'servername': '$servername'\n",
    "                    },\n",
    "                    'latest': {'$max': '$date'},\n",
    "                    'docs': {'$push': {'_id': '$_id', 'date': '$date'}}\n",
    "                }\n",
    "            }\n",
    "        ]\n",
    "    \n",
    "        # Execute the aggregation pipeline\n",
    "        result = collection.aggregate(pipeline)\n",
    "    \n",
    "        # Loop through the aggregation result\n",
    "        keep=0\n",
    "        for doc in result:\n",
    "            latest_date = doc['latest']\n",
    "            docs = doc['docs']\n",
    "            latest_id = None\n",
    "    \n",
    "            # Find the document with the latest date\n",
    "            for d in docs:\n",
    "                if d['date'] == latest_date:\n",
    "                    latest_id = d['_id']\n",
    "    \n",
    "            # Print all other documents except the latest one\n",
    "            if latest_id:\n",
    "                keep+=1\n",
    "                for d in docs:\n",
    "                    if d['_id'] != latest_id:\n",
    "                        #print(f\"Would delete document: {d['_id']}\")\n",
    "                        would_delete.append(d['_id'])\n",
    "        print(\"docs\",len(would_delete),\"keep\",keep,next_date)\n",
    "    \n",
    "        current_date = next_date\n",
    "    \n",
    "    print(\"Run complete!\")\n",
    "    res = muuid.delete_many({'_id': {'$in': would_delete}})\n",
    "    print(\"delted\",res.deleted_count)"
   ]
  },
  {
   "cell_type": "code",
   "execution_count": 13,
   "id": "81f55d97-1233-422d-9165-2b9431f7f6c4",
   "metadata": {},
   "outputs": [
    {
     "name": "stdout",
     "output_type": "stream",
     "text": [
      "CPU times: total: 46.9 ms\n",
      "Wall time: 7.6 s\n"
     ]
    }
   ],
   "source": [
    "%%time\n",
    "from bson.objectid import ObjectId\n",
    "\n",
    "object_id_list = [ObjectId(idd) for idd in would_delete]\n",
    "query = {'_id': {'$in': object_id_list}}\n",
    "\n",
    "matching_documents = muuid.find(query)\n",
    "counts=0\n",
    "for doc in matching_documents:\n",
    "    #print(doc)\n",
    "    counts+=1"
   ]
  },
  {
   "cell_type": "code",
   "execution_count": 14,
   "id": "9b4392b3-9275-408c-ae93-e0aa6175ae29",
   "metadata": {},
   "outputs": [
    {
     "data": {
      "text/plain": [
       "13346"
      ]
     },
     "execution_count": 14,
     "metadata": {},
     "output_type": "execute_result"
    }
   ],
   "source": [
    "counts"
   ]
  },
  {
   "cell_type": "code",
   "execution_count": null,
   "id": "546514f7-7566-441b-baeb-9dbab3b7d425",
   "metadata": {},
   "outputs": [],
   "source": [
    "%%time\n",
    "collection = muuid\n",
    "\n",
    "# Calculate the start date for 2 months ago\n",
    "for i in range(0,4):\n",
    "    start_date = datetime.datetime.now() - datetime.timedelta(days=(i+1)*40) #150 to \n",
    "    end_date = datetime.datetime.now() - datetime.timedelta(days=i*40)\n",
    "    \n",
    "    current_date = start_date\n",
    "    \n",
    "    would_delete = []\n",
    "    \n",
    "    while current_date < end_date:\n",
    "        next_date = current_date + datetime.timedelta(days=40)\n",
    "        \n",
    "        # Group documents by unique fields excluding _id and date\n",
    "        pipeline = [\n",
    "            {\n",
    "                '$match': {\n",
    "                    'date': {'$gte': current_date, '$lt': next_date}\n",
    "                }\n",
    "            },\n",
    "            {\n",
    "                '$group': {\n",
    "                    '_id': {\n",
    "                        'musername': '$musername',\n",
    "                        'muuid': '$muuid',\n",
    "                        'musid': '$musid',\n",
    "                        'con_address': '$con_address',\n",
    "                        'color': '$color',\n",
    "                        'servername': '$servername'\n",
    "                    },\n",
    "                    'latest': {'$max': '$date'},\n",
    "                    'docs': {'$push': {'_id': '$_id', 'date': '$date'}}\n",
    "                }\n",
    "            }\n",
    "        ]\n",
    "    \n",
    "        # Execute the aggregation pipeline\n",
    "        result = collection.aggregate(pipeline)\n",
    "    \n",
    "        # Loop through the aggregation result\n",
    "        keep=0\n",
    "        for doc in result:\n",
    "            latest_date = doc['latest']\n",
    "            docs = doc['docs']\n",
    "            latest_id = None\n",
    "    \n",
    "            # Find the document with the latest date\n",
    "            for d in docs:\n",
    "                if d['date'] == latest_date:\n",
    "                    latest_id = d['_id']\n",
    "    \n",
    "            # Print all other documents except the latest one\n",
    "            if latest_id:\n",
    "                keep+=1\n",
    "                for d in docs:\n",
    "                    if d['_id'] != latest_id:\n",
    "                        #print(f\"Would delete document: {d['_id']}\")\n",
    "                        would_delete.append(d['_id'])\n",
    "        print(\"docs\",len(would_delete),\"keep\",keep,next_date)\n",
    "    \n",
    "        current_date = next_date\n",
    "    \n",
    "    print(\"Run complete!\")\n",
    "    res = muuid.delete_many({'_id': {'$in': would_delete}})\n",
    "    print(\"delted\",res.deleted_count)"
   ]
  }
 ],
 "metadata": {
  "kernelspec": {
   "display_name": "Python 3 (ipykernel)",
   "language": "python",
   "name": "python3"
  },
  "language_info": {
   "codemirror_mode": {
    "name": "ipython",
    "version": 3
   },
   "file_extension": ".py",
   "mimetype": "text/x-python",
   "name": "python",
   "nbconvert_exporter": "python",
   "pygments_lexer": "ipython3",
   "version": "3.9.1"
  }
 },
 "nbformat": 4,
 "nbformat_minor": 5
}
